{
 "cells": [
  {
   "cell_type": "code",
   "execution_count": 2,
   "metadata": {},
   "outputs": [],
   "source": [
    "import cv2 \n",
    "import numpy as np  \n"
   ]
  },
  {
   "cell_type": "code",
   "execution_count": 41,
   "metadata": {},
   "outputs": [],
   "source": []
  },
  {
   "cell_type": "code",
   "execution_count": 3,
   "metadata": {},
   "outputs": [
    {
     "name": "stdout",
     "output_type": "stream",
     "text": [
      "304 \t 625\n",
      "301 \t 322\n",
      "470 \t 456\n",
      "449 \t 358\n",
      "284 \t 257\n",
      "167 \t 409\n",
      "282 \t 642\n",
      "185 \t 699\n",
      "443 \t 313\n",
      "586 \t 385\n",
      "441 \t 465\n",
      "568 \t 513\n"
     ]
    }
   ],
   "source": [
    "# importing the module\n",
    "import cv2\n",
    "\n",
    "xy=np.zeros([12,2])\n",
    "global i\n",
    "i=0\n",
    " \n",
    "# function to display the coordinates of\n",
    "# of the points clicked on the image\n",
    "def click_event(event, x, y, flags, params):\n",
    " \n",
    "    # checking for left mouse clicks\n",
    "    if event == cv2.EVENT_LBUTTONDOWN:\n",
    "        global i\n",
    "        # displaying the coordinates\n",
    "        # on the Shell\n",
    "        xy[i,:]=np.array([x,y])\n",
    "        i+=1\n",
    "        print(x,\"\\t\",y)\n",
    "        # displaying the coordinates\n",
    "        # on the image window\n",
    "        font = cv2.FONT_HERSHEY_SIMPLEX\n",
    "        cv2.putText(img, str(x) + ',' +\n",
    "                    str(y), (x,y), font,\n",
    "                    1, (255, 0, 0), 2)\n",
    "        cv2.imshow('image', img)\n",
    " \n",
    "    # checking for right mouse clicks    \n",
    "    if event==cv2.EVENT_RBUTTONDOWN:\n",
    " \n",
    "        # displaying the coordinates\n",
    "        # on the Shell\n",
    "        print(x, ' ', y)\n",
    " \n",
    "        # displaying the coordinates\n",
    "        # on the image window\n",
    "        font = cv2.FONT_HERSHEY_SIMPLEX\n",
    "        b = img[y, x, 0]\n",
    "        g = img[y, x, 1]\n",
    "        r = img[y, x, 2]\n",
    "        cv2.putText(img, str(b) + ',' +\n",
    "                    str(g) + ',' + str(r),\n",
    "                    (x,y), font, 1,\n",
    "                    (255, 255, 0), 2)\n",
    "        cv2.imshow('image', img)\n",
    " \n",
    "# driver function\n",
    "if __name__==\"__main__\":\n",
    " \n",
    "    # reading the image\n",
    "    img = cv2.imread('vanishing_point_2.jpg', 1)\n",
    "    img = cv2.resize(img, (604, 806)) \n",
    "    # displaying the image\n",
    "    cv2.imshow('image', img)\n",
    " \n",
    "    # setting mouse handler for the image\n",
    "    # and calling the click_event() function\n",
    "    cv2.setMouseCallback('image', click_event)\n",
    " \n",
    "    # wait for a key to be pressed to exit\n",
    "    cv2.waitKey(0)\n",
    " \n",
    "    # close the window\n",
    "    cv2.destroyAllWindows()"
   ]
  },
  {
   "cell_type": "code",
   "execution_count": 4,
   "metadata": {},
   "outputs": [
    {
     "name": "stdout",
     "output_type": "stream",
     "text": [
      "[304. 625.]  \t [301. 322.]\n",
      "[470. 456.]  \t [449. 358.]\n",
      "[284. 257.]  \t [167. 409.]\n",
      "[282. 642.]  \t [185. 699.]\n",
      "[443. 313.]  \t [586. 385.]\n",
      "[441. 465.]  \t [568. 513.]\n"
     ]
    }
   ],
   "source": [
    "lines=np.zeros([6,3])\n",
    "for i in range(0,6):\n",
    "    print(xy[2*i,:], \" \\t\" , xy[2*i+1,:])\n",
    "    lines[i,:]=np.cross(np.append(xy[2*i,:],1),np.append(xy[2*i+1,:],1))"
   ]
  },
  {
   "cell_type": "code",
   "execution_count": 5,
   "metadata": {},
   "outputs": [
    {
     "data": {
      "text/plain": [
       "array([[ 3.0300e+02, -3.0000e+00, -9.0237e+04],\n",
       "       [ 9.8000e+01, -2.1000e+01, -3.6484e+04],\n",
       "       [-1.5200e+02, -1.1700e+02,  7.3237e+04],\n",
       "       [-5.7000e+01, -9.7000e+01,  7.8348e+04],\n",
       "       [-7.2000e+01,  1.4300e+02, -1.2863e+04],\n",
       "       [-4.8000e+01,  1.2700e+02, -3.7887e+04]])"
      ]
     },
     "execution_count": 5,
     "metadata": {},
     "output_type": "execute_result"
    }
   ],
   "source": [
    "lines\n"
   ]
  },
  {
   "cell_type": "code",
   "execution_count": 6,
   "metadata": {},
   "outputs": [
    {
     "name": "stdout",
     "output_type": "stream",
     "text": [
      "[ 294.20415225 -364.38062284]\n",
      "[-255.44606811  957.81882353]\n",
      "[1659.75438596  925.63157895]\n"
     ]
    }
   ],
   "source": [
    "l1=np.zeros([3,2])\n",
    "for j in range(3):\n",
    "    l11=np.cross(lines[2*j,:],lines[2*j+1,:])\n",
    "    # print(l11)\n",
    "    l1[j,:]=np.array([l11[0]/l11[2],l11[1]/l11[2]])\n",
    "    print(l1[j,:])"
   ]
  },
  {
   "cell_type": "code",
   "execution_count": 7,
   "metadata": {},
   "outputs": [],
   "source": [
    "A=np.array([[l1[0][0]-l1[2][0],l1[0][1]-l1[2][1]],[l1[1][0]-l1[2][0],l1[1][1]-l1[2][1]]])\n",
    "b=np.array([[(l1[0][0]-l1[2][0])*l1[1][0]+(l1[0][1]-l1[2][1])*l1[1][1]],[(l1[1][0]-l1[2][0])*l1[0][0]+(l1[1][1]-l1[2][1])*l1[0][1]]])\n",
    "\n",
    "[[x0],[y0]]=np.linalg.solve(A,b)\n",
    "\n",
    "f=np.sqrt(-1*(l1[0][0]-x0)*(l1[1][0]-x0)-(l1[0][1] - y0)*(l1[1][1]- y0))\n",
    "\n"
   ]
  },
  {
   "cell_type": "code",
   "execution_count": 8,
   "metadata": {},
   "outputs": [
    {
     "data": {
      "text/plain": [
       "array([[652.5220655 ,   0.        , 306.42936634],\n",
       "       [  0.        , 652.5220655 , 363.0421774 ],\n",
       "       [  0.        ,   0.        ,   1.        ]])"
      ]
     },
     "execution_count": 8,
     "metadata": {},
     "output_type": "execute_result"
    }
   ],
   "source": [
    "K=np.array([[f,0,x0],[0,f,y0],[0,0,1]])\n",
    "K"
   ]
  }
 ],
 "metadata": {
  "kernelspec": {
   "display_name": "Python 3.9.12 ('Deeplearning')",
   "language": "python",
   "name": "python3"
  },
  "language_info": {
   "codemirror_mode": {
    "name": "ipython",
    "version": 3
   },
   "file_extension": ".py",
   "mimetype": "text/x-python",
   "name": "python",
   "nbconvert_exporter": "python",
   "pygments_lexer": "ipython3",
   "version": "3.9.12"
  },
  "orig_nbformat": 4,
  "vscode": {
   "interpreter": {
    "hash": "25c109e527b7e59a8c0bbe4f3c70b4700b409db0f0a677ec933b1d6187372851"
   }
  }
 },
 "nbformat": 4,
 "nbformat_minor": 2
}
